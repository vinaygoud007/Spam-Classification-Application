{
 "cells": [
  {
   "cell_type": "code",
   "execution_count": 1,
   "id": "b520737c",
   "metadata": {},
   "outputs": [],
   "source": [
    "import numpy as np\n",
    "import pandas as pd"
   ]
  },
  {
   "cell_type": "code",
   "execution_count": 2,
   "id": "d993a911",
   "metadata": {},
   "outputs": [],
   "source": [
    "df = pd.read_csv('spam.csv',encoding='ISO-8859-1')"
   ]
  },
  {
   "cell_type": "code",
   "execution_count": 3,
   "id": "98bfd13d",
   "metadata": {},
   "outputs": [
    {
     "data": {
      "text/html": [
       "<div>\n",
       "<style scoped>\n",
       "    .dataframe tbody tr th:only-of-type {\n",
       "        vertical-align: middle;\n",
       "    }\n",
       "\n",
       "    .dataframe tbody tr th {\n",
       "        vertical-align: top;\n",
       "    }\n",
       "\n",
       "    .dataframe thead th {\n",
       "        text-align: right;\n",
       "    }\n",
       "</style>\n",
       "<table border=\"1\" class=\"dataframe\">\n",
       "  <thead>\n",
       "    <tr style=\"text-align: right;\">\n",
       "      <th></th>\n",
       "      <th>v1</th>\n",
       "      <th>v2</th>\n",
       "      <th>Unnamed: 2</th>\n",
       "      <th>Unnamed: 3</th>\n",
       "      <th>Unnamed: 4</th>\n",
       "    </tr>\n",
       "  </thead>\n",
       "  <tbody>\n",
       "    <tr>\n",
       "      <th>0</th>\n",
       "      <td>ham</td>\n",
       "      <td>Go until jurong point, crazy.. Available only ...</td>\n",
       "      <td>NaN</td>\n",
       "      <td>NaN</td>\n",
       "      <td>NaN</td>\n",
       "    </tr>\n",
       "    <tr>\n",
       "      <th>1</th>\n",
       "      <td>ham</td>\n",
       "      <td>Ok lar... Joking wif u oni...</td>\n",
       "      <td>NaN</td>\n",
       "      <td>NaN</td>\n",
       "      <td>NaN</td>\n",
       "    </tr>\n",
       "    <tr>\n",
       "      <th>2</th>\n",
       "      <td>spam</td>\n",
       "      <td>Free entry in 2 a wkly comp to win FA Cup fina...</td>\n",
       "      <td>NaN</td>\n",
       "      <td>NaN</td>\n",
       "      <td>NaN</td>\n",
       "    </tr>\n",
       "    <tr>\n",
       "      <th>3</th>\n",
       "      <td>ham</td>\n",
       "      <td>U dun say so early hor... U c already then say...</td>\n",
       "      <td>NaN</td>\n",
       "      <td>NaN</td>\n",
       "      <td>NaN</td>\n",
       "    </tr>\n",
       "    <tr>\n",
       "      <th>4</th>\n",
       "      <td>ham</td>\n",
       "      <td>Nah I don't think he goes to usf, he lives aro...</td>\n",
       "      <td>NaN</td>\n",
       "      <td>NaN</td>\n",
       "      <td>NaN</td>\n",
       "    </tr>\n",
       "  </tbody>\n",
       "</table>\n",
       "</div>"
      ],
      "text/plain": [
       "     v1                                                 v2 Unnamed: 2  \\\n",
       "0   ham  Go until jurong point, crazy.. Available only ...        NaN   \n",
       "1   ham                      Ok lar... Joking wif u oni...        NaN   \n",
       "2  spam  Free entry in 2 a wkly comp to win FA Cup fina...        NaN   \n",
       "3   ham  U dun say so early hor... U c already then say...        NaN   \n",
       "4   ham  Nah I don't think he goes to usf, he lives aro...        NaN   \n",
       "\n",
       "  Unnamed: 3 Unnamed: 4  \n",
       "0        NaN        NaN  \n",
       "1        NaN        NaN  \n",
       "2        NaN        NaN  \n",
       "3        NaN        NaN  \n",
       "4        NaN        NaN  "
      ]
     },
     "execution_count": 3,
     "metadata": {},
     "output_type": "execute_result"
    }
   ],
   "source": [
    "df.head()"
   ]
  },
  {
   "cell_type": "code",
   "execution_count": 4,
   "id": "d231b2ed",
   "metadata": {},
   "outputs": [
    {
     "data": {
      "text/plain": [
       "(5572, 5)"
      ]
     },
     "execution_count": 4,
     "metadata": {},
     "output_type": "execute_result"
    }
   ],
   "source": [
    "df.shape"
   ]
  },
  {
   "cell_type": "code",
   "execution_count": 5,
   "id": "845ba5b1",
   "metadata": {},
   "outputs": [
    {
     "name": "stdout",
     "output_type": "stream",
     "text": [
      "<class 'pandas.core.frame.DataFrame'>\n",
      "RangeIndex: 5572 entries, 0 to 5571\n",
      "Data columns (total 5 columns):\n",
      " #   Column      Non-Null Count  Dtype \n",
      "---  ------      --------------  ----- \n",
      " 0   v1          5572 non-null   object\n",
      " 1   v2          5572 non-null   object\n",
      " 2   Unnamed: 2  50 non-null     object\n",
      " 3   Unnamed: 3  12 non-null     object\n",
      " 4   Unnamed: 4  6 non-null      object\n",
      "dtypes: object(5)\n",
      "memory usage: 217.8+ KB\n"
     ]
    }
   ],
   "source": [
    "df.info()"
   ]
  },
  {
   "cell_type": "markdown",
   "id": "2186c720",
   "metadata": {},
   "source": [
    "# Exploratory Data Analysis"
   ]
  },
  {
   "cell_type": "code",
   "execution_count": 6,
   "id": "ac8b8290",
   "metadata": {},
   "outputs": [
    {
     "data": {
      "text/html": [
       "<div>\n",
       "<style scoped>\n",
       "    .dataframe tbody tr th:only-of-type {\n",
       "        vertical-align: middle;\n",
       "    }\n",
       "\n",
       "    .dataframe tbody tr th {\n",
       "        vertical-align: top;\n",
       "    }\n",
       "\n",
       "    .dataframe thead th {\n",
       "        text-align: right;\n",
       "    }\n",
       "</style>\n",
       "<table border=\"1\" class=\"dataframe\">\n",
       "  <thead>\n",
       "    <tr style=\"text-align: right;\">\n",
       "      <th></th>\n",
       "      <th>target</th>\n",
       "      <th>text</th>\n",
       "    </tr>\n",
       "  </thead>\n",
       "  <tbody>\n",
       "    <tr>\n",
       "      <th>0</th>\n",
       "      <td>ham</td>\n",
       "      <td>Go until jurong point, crazy.. Available only ...</td>\n",
       "    </tr>\n",
       "    <tr>\n",
       "      <th>1</th>\n",
       "      <td>ham</td>\n",
       "      <td>Ok lar... Joking wif u oni...</td>\n",
       "    </tr>\n",
       "    <tr>\n",
       "      <th>2</th>\n",
       "      <td>spam</td>\n",
       "      <td>Free entry in 2 a wkly comp to win FA Cup fina...</td>\n",
       "    </tr>\n",
       "    <tr>\n",
       "      <th>3</th>\n",
       "      <td>ham</td>\n",
       "      <td>U dun say so early hor... U c already then say...</td>\n",
       "    </tr>\n",
       "    <tr>\n",
       "      <th>4</th>\n",
       "      <td>ham</td>\n",
       "      <td>Nah I don't think he goes to usf, he lives aro...</td>\n",
       "    </tr>\n",
       "    <tr>\n",
       "      <th>5</th>\n",
       "      <td>spam</td>\n",
       "      <td>FreeMsg Hey there darling it's been 3 week's n...</td>\n",
       "    </tr>\n",
       "    <tr>\n",
       "      <th>6</th>\n",
       "      <td>ham</td>\n",
       "      <td>Even my brother is not like to speak with me. ...</td>\n",
       "    </tr>\n",
       "    <tr>\n",
       "      <th>7</th>\n",
       "      <td>ham</td>\n",
       "      <td>As per your request 'Melle Melle (Oru Minnamin...</td>\n",
       "    </tr>\n",
       "    <tr>\n",
       "      <th>8</th>\n",
       "      <td>spam</td>\n",
       "      <td>WINNER!! As a valued network customer you have...</td>\n",
       "    </tr>\n",
       "    <tr>\n",
       "      <th>9</th>\n",
       "      <td>spam</td>\n",
       "      <td>Had your mobile 11 months or more? U R entitle...</td>\n",
       "    </tr>\n",
       "  </tbody>\n",
       "</table>\n",
       "</div>"
      ],
      "text/plain": [
       "  target                                               text\n",
       "0    ham  Go until jurong point, crazy.. Available only ...\n",
       "1    ham                      Ok lar... Joking wif u oni...\n",
       "2   spam  Free entry in 2 a wkly comp to win FA Cup fina...\n",
       "3    ham  U dun say so early hor... U c already then say...\n",
       "4    ham  Nah I don't think he goes to usf, he lives aro...\n",
       "5   spam  FreeMsg Hey there darling it's been 3 week's n...\n",
       "6    ham  Even my brother is not like to speak with me. ...\n",
       "7    ham  As per your request 'Melle Melle (Oru Minnamin...\n",
       "8   spam  WINNER!! As a valued network customer you have...\n",
       "9   spam  Had your mobile 11 months or more? U R entitle..."
      ]
     },
     "execution_count": 6,
     "metadata": {},
     "output_type": "execute_result"
    }
   ],
   "source": [
    "# drop last 3 cols\n",
    "df.drop(columns=['Unnamed: 2','Unnamed: 3','Unnamed: 4'],inplace=True)\n",
    "\n",
    "# renaming the cols\n",
    "df.rename(columns={'v1':'target','v2':'text'},inplace=True)\n",
    "df.head(10)"
   ]
  },
  {
   "cell_type": "code",
   "execution_count": 7,
   "id": "c56086e0",
   "metadata": {},
   "outputs": [
    {
     "data": {
      "text/plain": [
       "ham     4825\n",
       "spam     747\n",
       "Name: target, dtype: int64"
      ]
     },
     "execution_count": 7,
     "metadata": {},
     "output_type": "execute_result"
    }
   ],
   "source": [
    "#Number of observations in each label spam and ham\n",
    "df.target.value_counts()"
   ]
  },
  {
   "cell_type": "code",
   "execution_count": 8,
   "id": "6c5ff547",
   "metadata": {
    "scrolled": true
   },
   "outputs": [
    {
     "data": {
      "text/html": [
       "<div>\n",
       "<style scoped>\n",
       "    .dataframe tbody tr th:only-of-type {\n",
       "        vertical-align: middle;\n",
       "    }\n",
       "\n",
       "    .dataframe tbody tr th {\n",
       "        vertical-align: top;\n",
       "    }\n",
       "\n",
       "    .dataframe thead th {\n",
       "        text-align: right;\n",
       "    }\n",
       "</style>\n",
       "<table border=\"1\" class=\"dataframe\">\n",
       "  <thead>\n",
       "    <tr style=\"text-align: right;\">\n",
       "      <th></th>\n",
       "      <th>target</th>\n",
       "      <th>ham</th>\n",
       "      <th>spam</th>\n",
       "    </tr>\n",
       "  </thead>\n",
       "  <tbody>\n",
       "    <tr>\n",
       "      <th rowspan=\"4\" valign=\"top\">text</th>\n",
       "      <th>count</th>\n",
       "      <td>4825</td>\n",
       "      <td>747</td>\n",
       "    </tr>\n",
       "    <tr>\n",
       "      <th>unique</th>\n",
       "      <td>4516</td>\n",
       "      <td>653</td>\n",
       "    </tr>\n",
       "    <tr>\n",
       "      <th>top</th>\n",
       "      <td>Sorry, I'll call later</td>\n",
       "      <td>Please call our customer service representativ...</td>\n",
       "    </tr>\n",
       "    <tr>\n",
       "      <th>freq</th>\n",
       "      <td>30</td>\n",
       "      <td>4</td>\n",
       "    </tr>\n",
       "  </tbody>\n",
       "</table>\n",
       "</div>"
      ],
      "text/plain": [
       "target                          ham  \\\n",
       "text count                     4825   \n",
       "     unique                    4516   \n",
       "     top     Sorry, I'll call later   \n",
       "     freq                        30   \n",
       "\n",
       "target                                                    spam  \n",
       "text count                                                 747  \n",
       "     unique                                                653  \n",
       "     top     Please call our customer service representativ...  \n",
       "     freq                                                    4  "
      ]
     },
     "execution_count": 8,
     "metadata": {},
     "output_type": "execute_result"
    }
   ],
   "source": [
    "df.groupby('target').describe().T"
   ]
  },
  {
   "cell_type": "code",
   "execution_count": 9,
   "id": "c6162d0a",
   "metadata": {},
   "outputs": [],
   "source": [
    "import seaborn as sns\n",
    "import matplotlib.pyplot as plt"
   ]
  },
  {
   "cell_type": "code",
   "execution_count": 10,
   "id": "182c8fb3",
   "metadata": {
    "scrolled": true
   },
   "outputs": [
    {
     "name": "stderr",
     "output_type": "stream",
     "text": [
      "C:\\Users\\Jakkula vinay\\anaconda3\\lib\\site-packages\\seaborn\\_decorators.py:36: FutureWarning: Pass the following variable as a keyword arg: x. From version 0.12, the only valid positional argument will be `data`, and passing other arguments without an explicit keyword will result in an error or misinterpretation.\n",
      "  warnings.warn(\n"
     ]
    },
    {
     "data": {
      "image/png": "[encoded data removed]",
      "text/plain": [
       "<Figure size 864x288 with 2 Axes>"
      ]
     },
     "metadata": {
      "needs_background": "light"
     },
     "output_type": "display_data"
    }
   ],
   "source": [
    "f,ax=plt.subplots(1,2, figsize=(12,4))\n",
    "df.target.value_counts().plot.pie(explode=[0,0.12],autopct='%1.3f%%',ax=ax[0])\n",
    "sns.countplot('target',data=df)\n",
    "plt.show()"
   ]
  },
  {
   "cell_type": "code",
   "execution_count": 11,
   "id": "aa8cf4dc",
   "metadata": {},
   "outputs": [],
   "source": [
    "# check for duplicate values and remove freq rows\n",
    "#df.duplicated().sum()"
   ]
  },
  {
   "cell_type": "code",
   "execution_count": 12,
   "id": "88986280",
   "metadata": {},
   "outputs": [],
   "source": [
    "# remove duplicates\n",
    "#df = df.drop_duplicates(keep='first')"
   ]
  },
  {
   "cell_type": "code",
   "execution_count": 13,
   "id": "7ce910a2",
   "metadata": {},
   "outputs": [],
   "source": [
    "#df.duplicated().sum()"
   ]
  },
  {
   "cell_type": "code",
   "execution_count": 14,
   "id": "1a581b6c",
   "metadata": {},
   "outputs": [],
   "source": [
    "#df.shape"
   ]
  },
  {
   "cell_type": "code",
   "execution_count": 15,
   "id": "fadfe089",
   "metadata": {},
   "outputs": [],
   "source": [
    "#df['target'].value_counts()"
   ]
  },
  {
   "cell_type": "code",
   "execution_count": null,
   "id": "70c1dc34",
   "metadata": {},
   "outputs": [],
   "source": []
  },
  {
   "cell_type": "code",
   "execution_count": 16,
   "id": "9ba25074",
   "metadata": {},
   "outputs": [],
   "source": [
    "#Encode target labels with value between 0 and 1.\n",
    "#This transformer should be used to encode target values, spam and ham, \n",
    "# LabelEncoder()--->converts ham=0, spam=1.\n",
    "\n",
    "from sklearn.preprocessing import LabelEncoder\n",
    "encoder = LabelEncoder()"
   ]
  },
  {
   "cell_type": "code",
   "execution_count": 17,
   "id": "3737213f",
   "metadata": {},
   "outputs": [],
   "source": [
    "df['target'] = encoder.fit_transform(df['target'])"
   ]
  },
  {
   "cell_type": "code",
   "execution_count": 18,
   "id": "d4793114",
   "metadata": {},
   "outputs": [
    {
     "data": {
      "text/html": [
       "<div>\n",
       "<style scoped>\n",
       "    .dataframe tbody tr th:only-of-type {\n",
       "        vertical-align: middle;\n",
       "    }\n",
       "\n",
       "    .dataframe tbody tr th {\n",
       "        vertical-align: top;\n",
       "    }\n",
       "\n",
       "    .dataframe thead th {\n",
       "        text-align: right;\n",
       "    }\n",
       "</style>\n",
       "<table border=\"1\" class=\"dataframe\">\n",
       "  <thead>\n",
       "    <tr style=\"text-align: right;\">\n",
       "      <th></th>\n",
       "      <th>target</th>\n",
       "      <th>text</th>\n",
       "    </tr>\n",
       "  </thead>\n",
       "  <tbody>\n",
       "    <tr>\n",
       "      <th>0</th>\n",
       "      <td>0</td>\n",
       "      <td>Go until jurong point, crazy.. Available only ...</td>\n",
       "    </tr>\n",
       "    <tr>\n",
       "      <th>1</th>\n",
       "      <td>0</td>\n",
       "      <td>Ok lar... Joking wif u oni...</td>\n",
       "    </tr>\n",
       "    <tr>\n",
       "      <th>2</th>\n",
       "      <td>1</td>\n",
       "      <td>Free entry in 2 a wkly comp to win FA Cup fina...</td>\n",
       "    </tr>\n",
       "    <tr>\n",
       "      <th>3</th>\n",
       "      <td>0</td>\n",
       "      <td>U dun say so early hor... U c already then say...</td>\n",
       "    </tr>\n",
       "    <tr>\n",
       "      <th>4</th>\n",
       "      <td>0</td>\n",
       "      <td>Nah I don't think he goes to usf, he lives aro...</td>\n",
       "    </tr>\n",
       "  </tbody>\n",
       "</table>\n",
       "</div>"
      ],
      "text/plain": [
       "   target                                               text\n",
       "0       0  Go until jurong point, crazy.. Available only ...\n",
       "1       0                      Ok lar... Joking wif u oni...\n",
       "2       1  Free entry in 2 a wkly comp to win FA Cup fina...\n",
       "3       0  U dun say so early hor... U c already then say...\n",
       "4       0  Nah I don't think he goes to usf, he lives aro..."
      ]
     },
     "execution_count": 18,
     "metadata": {},
     "output_type": "execute_result"
    }
   ],
   "source": [
    "df.head()"
   ]
  },
  {
   "cell_type": "code",
   "execution_count": 19,
   "id": "398ca928",
   "metadata": {},
   "outputs": [
    {
     "data": {
      "text/html": [
       "<div>\n",
       "<style scoped>\n",
       "    .dataframe tbody tr th:only-of-type {\n",
       "        vertical-align: middle;\n",
       "    }\n",
       "\n",
       "    .dataframe tbody tr th {\n",
       "        vertical-align: top;\n",
       "    }\n",
       "\n",
       "    .dataframe thead th {\n",
       "        text-align: right;\n",
       "    }\n",
       "</style>\n",
       "<table border=\"1\" class=\"dataframe\">\n",
       "  <thead>\n",
       "    <tr style=\"text-align: right;\">\n",
       "      <th></th>\n",
       "      <th>text</th>\n",
       "    </tr>\n",
       "  </thead>\n",
       "  <tbody>\n",
       "    <tr>\n",
       "      <th>0</th>\n",
       "      <td>Go until jurong point, crazy.. Available only ...</td>\n",
       "    </tr>\n",
       "    <tr>\n",
       "      <th>1</th>\n",
       "      <td>Ok lar... Joking wif u oni...</td>\n",
       "    </tr>\n",
       "    <tr>\n",
       "      <th>2</th>\n",
       "      <td>Free entry in 2 a wkly comp to win FA Cup fina...</td>\n",
       "    </tr>\n",
       "    <tr>\n",
       "      <th>3</th>\n",
       "      <td>U dun say so early hor... U c already then say...</td>\n",
       "    </tr>\n",
       "    <tr>\n",
       "      <th>4</th>\n",
       "      <td>Nah I don't think he goes to usf, he lives aro...</td>\n",
       "    </tr>\n",
       "  </tbody>\n",
       "</table>\n",
       "</div>"
      ],
      "text/plain": [
       "                                                text\n",
       "0  Go until jurong point, crazy.. Available only ...\n",
       "1                      Ok lar... Joking wif u oni...\n",
       "2  Free entry in 2 a wkly comp to win FA Cup fina...\n",
       "3  U dun say so early hor... U c already then say...\n",
       "4  Nah I don't think he goes to usf, he lives aro..."
      ]
     },
     "execution_count": 19,
     "metadata": {},
     "output_type": "execute_result"
    }
   ],
   "source": [
    "# get independent festures to X\n",
    "X = df.drop('target',axis=1)\n",
    "X.head()"
   ]
  },
  {
   "cell_type": "code",
   "execution_count": 20,
   "id": "393f54fa",
   "metadata": {},
   "outputs": [
    {
     "data": {
      "text/plain": [
       "0    0\n",
       "1    0\n",
       "2    1\n",
       "3    0\n",
       "4    0\n",
       "Name: target, dtype: int32"
      ]
     },
     "execution_count": 20,
     "metadata": {},
     "output_type": "execute_result"
    }
   ],
   "source": [
    "y = df['target']\n",
    "y.head()"
   ]
  },
  {
   "cell_type": "code",
   "execution_count": 21,
   "id": "8ffe4c83",
   "metadata": {},
   "outputs": [
    {
     "name": "stdout",
     "output_type": "stream",
     "text": [
      "shape of X is (5572, 1)\n",
      "shape of y is (5572,)\n"
     ]
    }
   ],
   "source": [
    "print('shape of X is', X.shape)\n",
    "print('shape of y is', y.shape)"
   ]
  },
  {
   "cell_type": "markdown",
   "id": "9c59e24d",
   "metadata": {},
   "source": [
    "# Text Preprocessing Using NLP techniques"
   ]
  },
  {
   "cell_type": "code",
   "execution_count": 22,
   "id": "6efe5e7a",
   "metadata": {},
   "outputs": [
    {
     "data": {
      "text/html": [
       "<div>\n",
       "<style scoped>\n",
       "    .dataframe tbody tr th:only-of-type {\n",
       "        vertical-align: middle;\n",
       "    }\n",
       "\n",
       "    .dataframe tbody tr th {\n",
       "        vertical-align: top;\n",
       "    }\n",
       "\n",
       "    .dataframe thead th {\n",
       "        text-align: right;\n",
       "    }\n",
       "</style>\n",
       "<table border=\"1\" class=\"dataframe\">\n",
       "  <thead>\n",
       "    <tr style=\"text-align: right;\">\n",
       "      <th></th>\n",
       "      <th>text</th>\n",
       "    </tr>\n",
       "  </thead>\n",
       "  <tbody>\n",
       "    <tr>\n",
       "      <th>0</th>\n",
       "      <td>Go until jurong point, crazy.. Available only ...</td>\n",
       "    </tr>\n",
       "    <tr>\n",
       "      <th>1</th>\n",
       "      <td>Ok lar... Joking wif u oni...</td>\n",
       "    </tr>\n",
       "    <tr>\n",
       "      <th>2</th>\n",
       "      <td>Free entry in 2 a wkly comp to win FA Cup fina...</td>\n",
       "    </tr>\n",
       "    <tr>\n",
       "      <th>3</th>\n",
       "      <td>U dun say so early hor... U c already then say...</td>\n",
       "    </tr>\n",
       "    <tr>\n",
       "      <th>4</th>\n",
       "      <td>Nah I don't think he goes to usf, he lives aro...</td>\n",
       "    </tr>\n",
       "    <tr>\n",
       "      <th>...</th>\n",
       "      <td>...</td>\n",
       "    </tr>\n",
       "    <tr>\n",
       "      <th>5567</th>\n",
       "      <td>This is the 2nd time we have tried 2 contact u...</td>\n",
       "    </tr>\n",
       "    <tr>\n",
       "      <th>5568</th>\n",
       "      <td>Will Ì_ b going to esplanade fr home?</td>\n",
       "    </tr>\n",
       "    <tr>\n",
       "      <th>5569</th>\n",
       "      <td>Pity, * was in mood for that. So...any other s...</td>\n",
       "    </tr>\n",
       "    <tr>\n",
       "      <th>5570</th>\n",
       "      <td>The guy did some bitching but I acted like i'd...</td>\n",
       "    </tr>\n",
       "    <tr>\n",
       "      <th>5571</th>\n",
       "      <td>Rofl. Its true to its name</td>\n",
       "    </tr>\n",
       "  </tbody>\n",
       "</table>\n",
       "<p>5572 rows × 1 columns</p>\n",
       "</div>"
      ],
      "text/plain": [
       "                                                   text\n",
       "0     Go until jurong point, crazy.. Available only ...\n",
       "1                         Ok lar... Joking wif u oni...\n",
       "2     Free entry in 2 a wkly comp to win FA Cup fina...\n",
       "3     U dun say so early hor... U c already then say...\n",
       "4     Nah I don't think he goes to usf, he lives aro...\n",
       "...                                                 ...\n",
       "5567  This is the 2nd time we have tried 2 contact u...\n",
       "5568              Will Ì_ b going to esplanade fr home?\n",
       "5569  Pity, * was in mood for that. So...any other s...\n",
       "5570  The guy did some bitching but I acted like i'd...\n",
       "5571                         Rofl. Its true to its name\n",
       "\n",
       "[5572 rows x 1 columns]"
      ]
     },
     "execution_count": 22,
     "metadata": {},
     "output_type": "execute_result"
    }
   ],
   "source": [
    "messages=X.copy()\n",
    "messages"
   ]
  },
  {
   "cell_type": "code",
   "execution_count": 23,
   "id": "d815e85f",
   "metadata": {},
   "outputs": [
    {
     "data": {
      "text/plain": [
       "\"Free entry in 2 a wkly comp to win FA Cup final tkts 21st May 2005. Text FA to 87121 to receive entry question(std txt rate)T&C's apply 08452810075over18's\""
      ]
     },
     "execution_count": 23,
     "metadata": {},
     "output_type": "execute_result"
    }
   ],
   "source": [
    "# here we are taking text for analysing \n",
    "messages['text'][2]"
   ]
  },
  {
   "cell_type": "code",
   "execution_count": 24,
   "id": "e1307105",
   "metadata": {},
   "outputs": [],
   "source": [
    "messages.reset_index(inplace=True)"
   ]
  },
  {
   "cell_type": "markdown",
   "id": "eb978a83",
   "metadata": {},
   "source": [
    "# Using regular expression(re) to replace email address, urls, phone number, money\n"
   ]
  },
  {
   "cell_type": "code",
   "execution_count": 25,
   "id": "4ed86836",
   "metadata": {},
   "outputs": [],
   "source": [
    "# NLP \n",
    "import nltk\n",
    "import re\n",
    "from nltk.corpus import stopwords"
   ]
  },
  {
   "cell_type": "code",
   "execution_count": 26,
   "id": "1847646c",
   "metadata": {},
   "outputs": [
    {
     "name": "stderr",
     "output_type": "stream",
     "text": [
      "[nltk_data] Downloading package stopwords to C:\\Users\\Jakkula\n",
      "[nltk_data]     vinay\\AppData\\Roaming\\nltk_data...\n",
      "[nltk_data]   Package stopwords is already up-to-date!\n"
     ]
    },
    {
     "data": {
      "text/plain": [
       "True"
      ]
     },
     "execution_count": 26,
     "metadata": {},
     "output_type": "execute_result"
    }
   ],
   "source": [
    "nltk.download('stopwords')"
   ]
  },
  {
   "cell_type": "markdown",
   "id": "5b6f9721",
   "metadata": {},
   "source": [
    "### Word Form Normalization\n",
    "Forms can have many inclinations, but more often they are not important and \n",
    "we need to know only the base form of the word.\n",
    "###  That can be done by\n",
    "##    Stemming: keeping only the root of the word (usually just deleting suffixes)\n",
    "####  Examples:--> economy, economic, economical, economically, economics, economize => econom\n",
    "##   Lemmatization: keeping only the lemma\n",
    "####   Examples:--> produce, produces, product, production => produce\n",
    "   "
   ]
  },
  {
   "cell_type": "code",
   "execution_count": 27,
   "id": "b3708a0d",
   "metadata": {},
   "outputs": [],
   "source": [
    "# here we use only stemming method\n",
    "from nltk.stem.porter import PorterStemmer\n",
    "ps = PorterStemmer()"
   ]
  },
  {
   "cell_type": "code",
   "execution_count": 28,
   "id": "68cc2166",
   "metadata": {},
   "outputs": [],
   "source": [
    "corpus = []\n",
    "for i in range(0, len(messages)):\n",
    "    \n",
    "    # re.sub('[^a-zA-Z]')---> remove text in square brackets,remove links,remove punctuation\n",
    "    # and remove words containing numbers\n",
    "    \n",
    "    # .lower()---> make text lowercase\n",
    "    \n",
    "    review = re.sub('[^a-zA-Z]', ' ', messages['text'][i]) #removes all special characters other than a-z,A-Z\n",
    "    review = review.lower()\n",
    "    \n",
    "    #word_tokenization method\n",
    "    review = review.split()   # sentences to words to apply stopwords\n",
    "    \n",
    "    #Stopwords are commonly used words in English which have no contextual meaning in an sentence. \n",
    "    #So therefore we remove them before classification.\n",
    "    \n",
    "    # stemming is applied for words that which words are not in stop words\n",
    "    # remove stop words from SMS\n",
    "    # remove word stems using Porter stemmer\n",
    "    review = [ps.stem(word) for word in review if not word in stopwords.words('english')]\n",
    "    \n",
    "    # then again joined into sentences\n",
    "    review = ' '.join(review)\n",
    "    corpus.append(review)    # appended to new list corpus"
   ]
  },
  {
   "cell_type": "code",
   "execution_count": 29,
   "id": "3903456e",
   "metadata": {},
   "outputs": [
    {
     "data": {
      "text/plain": [
       "['go jurong point crazi avail bugi n great world la e buffet cine got amor wat',\n",
       " 'ok lar joke wif u oni',\n",
       " 'free entri wkli comp win fa cup final tkt st may text fa receiv entri question std txt rate c appli',\n",
       " 'u dun say earli hor u c alreadi say',\n",
       " 'nah think goe usf live around though',\n",
       " 'freemsg hey darl week word back like fun still tb ok xxx std chg send rcv',\n",
       " 'even brother like speak treat like aid patent',\n",
       " 'per request mell mell oru minnaminungint nurungu vettam set callertun caller press copi friend callertun',\n",
       " 'winner valu network custom select receivea prize reward claim call claim code kl valid hour',\n",
       " 'mobil month u r entitl updat latest colour mobil camera free call mobil updat co free']"
      ]
     },
     "execution_count": 29,
     "metadata": {},
     "output_type": "execute_result"
    }
   ],
   "source": [
    "corpus[0:10]"
   ]
  },
  {
   "cell_type": "code",
   "execution_count": 30,
   "id": "9b81e35e",
   "metadata": {},
   "outputs": [
    {
     "name": "stdout",
     "output_type": "stream",
     "text": [
      "Go until jurong point, crazy.. Available only in bugis n great world la e buffet... Cine there got amore wat...\n",
      "go jurong point crazi avail bugi n great world la e buffet cine got amor wat\n",
      "------------------------------------------------------------------\n",
      "Ok lar... Joking wif u oni...\n",
      "ok lar joke wif u oni\n",
      "------------------------------------------------------------------\n",
      "Free entry in 2 a wkly comp to win FA Cup final tkts 21st May 2005. Text FA to 87121 to receive entry question(std txt rate)T&C's apply 08452810075over18's\n",
      "free entri wkli comp win fa cup final tkt st may text fa receiv entri question std txt rate c appli\n",
      "------------------------------------------------------------------\n",
      "U dun say so early hor... U c already then say...\n",
      "u dun say earli hor u c alreadi say\n",
      "------------------------------------------------------------------\n",
      "Nah I don't think he goes to usf, he lives around here though\n",
      "nah think goe usf live around though\n",
      "------------------------------------------------------------------\n",
      "FreeMsg Hey there darling it's been 3 week's now and no word back! I'd like some fun you up for it still? Tb ok! XxX std chgs to send, å£1.50 to rcv\n",
      "freemsg hey darl week word back like fun still tb ok xxx std chg send rcv\n",
      "------------------------------------------------------------------\n",
      "Even my brother is not like to speak with me. They treat me like aids patent.\n",
      "even brother like speak treat like aid patent\n",
      "------------------------------------------------------------------\n",
      "As per your request 'Melle Melle (Oru Minnaminunginte Nurungu Vettam)' has been set as your callertune for all Callers. Press *9 to copy your friends Callertune\n",
      "per request mell mell oru minnaminungint nurungu vettam set callertun caller press copi friend callertun\n",
      "------------------------------------------------------------------\n",
      "WINNER!! As a valued network customer you have been selected to receivea å£900 prize reward! To claim call 09061701461. Claim code KL341. Valid 12 hours only.\n",
      "winner valu network custom select receivea prize reward claim call claim code kl valid hour\n",
      "------------------------------------------------------------------\n",
      "Had your mobile 11 months or more? U R entitled to Update to the latest colour mobiles with camera for Free! Call The Mobile Update Co FREE on 08002986030\n",
      "mobil month u r entitl updat latest colour mobil camera free call mobil updat co free\n",
      "------------------------------------------------------------------\n"
     ]
    }
   ],
   "source": [
    "# compare sentences before and after text preprocessing\n",
    "for i in range(0,10):\n",
    "    print(messages['text'][i])\n",
    "    print(corpus[i])\n",
    "    print(\"------------------------------------------------------------------\")"
   ]
  },
  {
   "cell_type": "markdown",
   "id": "520efdaf",
   "metadata": {},
   "source": [
    "### creating a bag-of-words"
   ]
  },
  {
   "cell_type": "code",
   "execution_count": 31,
   "id": "0be9ff09",
   "metadata": {},
   "outputs": [],
   "source": [
    "from nltk.tokenize import word_tokenize"
   ]
  },
  {
   "cell_type": "code",
   "execution_count": null,
   "id": "4a021d50",
   "metadata": {},
   "outputs": [],
   "source": []
  },
  {
   "cell_type": "code",
   "execution_count": 32,
   "id": "bc83c7ae",
   "metadata": {},
   "outputs": [],
   "source": [
    "all_words = []\n",
    "for sms in corpus:\n",
    "    words1 = word_tokenize(sms)\n",
    "    for w in words1:\n",
    "        all_words.append(w)\n",
    "        \n",
    "all_words = nltk.FreqDist(all_words)"
   ]
  },
  {
   "cell_type": "code",
   "execution_count": 33,
   "id": "ca12d4c7",
   "metadata": {},
   "outputs": [
    {
     "name": "stdout",
     "output_type": "stream",
     "text": [
      "Number of words: 6237\n"
     ]
    }
   ],
   "source": [
    "print('Number of words: {}'.format(len(all_words)))"
   ]
  },
  {
   "cell_type": "code",
   "execution_count": 34,
   "id": "e0fb19d9",
   "metadata": {},
   "outputs": [
    {
     "name": "stdout",
     "output_type": "stream",
     "text": [
      "10 most common words: [('u', 1212), ('call', 693), ('go', 459), ('get', 458), ('ur', 385), ('gt', 318), ('lt', 316), ('come', 302), ('ok', 292), ('day', 291)] \n",
      "\n"
     ]
    }
   ],
   "source": [
    "# print 10 most common words\n",
    "print('10 most common words: {} \\n'.format(all_words.most_common(10)))"
   ]
  },
  {
   "cell_type": "code",
   "execution_count": null,
   "id": "b1c98fa8",
   "metadata": {},
   "outputs": [],
   "source": []
  },
  {
   "cell_type": "markdown",
   "id": "cb522db5",
   "metadata": {},
   "source": [
    "# Word2Vector converting\n",
    "# Using TFIDF"
   ]
  },
  {
   "cell_type": "code",
   "execution_count": 38,
   "id": "1bf567f9",
   "metadata": {},
   "outputs": [],
   "source": [
    "from sklearn.feature_extraction.text import TfidfVectorizer"
   ]
  },
  {
   "cell_type": "code",
   "execution_count": 39,
   "id": "3c0207e5",
   "metadata": {},
   "outputs": [
    {
     "data": {
      "text/html": [
       "<div>\n",
       "<style scoped>\n",
       "    .dataframe tbody tr th:only-of-type {\n",
       "        vertical-align: middle;\n",
       "    }\n",
       "\n",
       "    .dataframe tbody tr th {\n",
       "        vertical-align: top;\n",
       "    }\n",
       "\n",
       "    .dataframe thead th {\n",
       "        text-align: right;\n",
       "    }\n",
       "</style>\n",
       "<table border=\"1\" class=\"dataframe\">\n",
       "  <thead>\n",
       "    <tr style=\"text-align: right;\">\n",
       "      <th></th>\n",
       "      <th>0</th>\n",
       "      <th>1</th>\n",
       "      <th>2</th>\n",
       "      <th>3</th>\n",
       "      <th>4</th>\n",
       "      <th>5</th>\n",
       "      <th>6</th>\n",
       "      <th>7</th>\n",
       "      <th>8</th>\n",
       "      <th>9</th>\n",
       "      <th>...</th>\n",
       "      <th>6211</th>\n",
       "      <th>6212</th>\n",
       "      <th>6213</th>\n",
       "      <th>6214</th>\n",
       "      <th>6215</th>\n",
       "      <th>6216</th>\n",
       "      <th>6217</th>\n",
       "      <th>6218</th>\n",
       "      <th>6219</th>\n",
       "      <th>6220</th>\n",
       "    </tr>\n",
       "  </thead>\n",
       "  <tbody>\n",
       "    <tr>\n",
       "      <th>0</th>\n",
       "      <td>0.0</td>\n",
       "      <td>0.0</td>\n",
       "      <td>0.0</td>\n",
       "      <td>0.0</td>\n",
       "      <td>0.0</td>\n",
       "      <td>0.0</td>\n",
       "      <td>0.0</td>\n",
       "      <td>0.0</td>\n",
       "      <td>0.0</td>\n",
       "      <td>0.0</td>\n",
       "      <td>...</td>\n",
       "      <td>0.0</td>\n",
       "      <td>0.0</td>\n",
       "      <td>0.0</td>\n",
       "      <td>0.0</td>\n",
       "      <td>0.0</td>\n",
       "      <td>0.0</td>\n",
       "      <td>0.0</td>\n",
       "      <td>0.0</td>\n",
       "      <td>0.0</td>\n",
       "      <td>0.0</td>\n",
       "    </tr>\n",
       "    <tr>\n",
       "      <th>1</th>\n",
       "      <td>0.0</td>\n",
       "      <td>0.0</td>\n",
       "      <td>0.0</td>\n",
       "      <td>0.0</td>\n",
       "      <td>0.0</td>\n",
       "      <td>0.0</td>\n",
       "      <td>0.0</td>\n",
       "      <td>0.0</td>\n",
       "      <td>0.0</td>\n",
       "      <td>0.0</td>\n",
       "      <td>...</td>\n",
       "      <td>0.0</td>\n",
       "      <td>0.0</td>\n",
       "      <td>0.0</td>\n",
       "      <td>0.0</td>\n",
       "      <td>0.0</td>\n",
       "      <td>0.0</td>\n",
       "      <td>0.0</td>\n",
       "      <td>0.0</td>\n",
       "      <td>0.0</td>\n",
       "      <td>0.0</td>\n",
       "    </tr>\n",
       "    <tr>\n",
       "      <th>2</th>\n",
       "      <td>0.0</td>\n",
       "      <td>0.0</td>\n",
       "      <td>0.0</td>\n",
       "      <td>0.0</td>\n",
       "      <td>0.0</td>\n",
       "      <td>0.0</td>\n",
       "      <td>0.0</td>\n",
       "      <td>0.0</td>\n",
       "      <td>0.0</td>\n",
       "      <td>0.0</td>\n",
       "      <td>...</td>\n",
       "      <td>0.0</td>\n",
       "      <td>0.0</td>\n",
       "      <td>0.0</td>\n",
       "      <td>0.0</td>\n",
       "      <td>0.0</td>\n",
       "      <td>0.0</td>\n",
       "      <td>0.0</td>\n",
       "      <td>0.0</td>\n",
       "      <td>0.0</td>\n",
       "      <td>0.0</td>\n",
       "    </tr>\n",
       "    <tr>\n",
       "      <th>3</th>\n",
       "      <td>0.0</td>\n",
       "      <td>0.0</td>\n",
       "      <td>0.0</td>\n",
       "      <td>0.0</td>\n",
       "      <td>0.0</td>\n",
       "      <td>0.0</td>\n",
       "      <td>0.0</td>\n",
       "      <td>0.0</td>\n",
       "      <td>0.0</td>\n",
       "      <td>0.0</td>\n",
       "      <td>...</td>\n",
       "      <td>0.0</td>\n",
       "      <td>0.0</td>\n",
       "      <td>0.0</td>\n",
       "      <td>0.0</td>\n",
       "      <td>0.0</td>\n",
       "      <td>0.0</td>\n",
       "      <td>0.0</td>\n",
       "      <td>0.0</td>\n",
       "      <td>0.0</td>\n",
       "      <td>0.0</td>\n",
       "    </tr>\n",
       "    <tr>\n",
       "      <th>4</th>\n",
       "      <td>0.0</td>\n",
       "      <td>0.0</td>\n",
       "      <td>0.0</td>\n",
       "      <td>0.0</td>\n",
       "      <td>0.0</td>\n",
       "      <td>0.0</td>\n",
       "      <td>0.0</td>\n",
       "      <td>0.0</td>\n",
       "      <td>0.0</td>\n",
       "      <td>0.0</td>\n",
       "      <td>...</td>\n",
       "      <td>0.0</td>\n",
       "      <td>0.0</td>\n",
       "      <td>0.0</td>\n",
       "      <td>0.0</td>\n",
       "      <td>0.0</td>\n",
       "      <td>0.0</td>\n",
       "      <td>0.0</td>\n",
       "      <td>0.0</td>\n",
       "      <td>0.0</td>\n",
       "      <td>0.0</td>\n",
       "    </tr>\n",
       "  </tbody>\n",
       "</table>\n",
       "<p>5 rows × 6221 columns</p>\n",
       "</div>"
      ],
      "text/plain": [
       "   0     1     2     3     4     5     6     7     8     9     ...  6211  \\\n",
       "0   0.0   0.0   0.0   0.0   0.0   0.0   0.0   0.0   0.0   0.0  ...   0.0   \n",
       "1   0.0   0.0   0.0   0.0   0.0   0.0   0.0   0.0   0.0   0.0  ...   0.0   \n",
       "2   0.0   0.0   0.0   0.0   0.0   0.0   0.0   0.0   0.0   0.0  ...   0.0   \n",
       "3   0.0   0.0   0.0   0.0   0.0   0.0   0.0   0.0   0.0   0.0  ...   0.0   \n",
       "4   0.0   0.0   0.0   0.0   0.0   0.0   0.0   0.0   0.0   0.0  ...   0.0   \n",
       "\n",
       "   6212  6213  6214  6215  6216  6217  6218  6219  6220  \n",
       "0   0.0   0.0   0.0   0.0   0.0   0.0   0.0   0.0   0.0  \n",
       "1   0.0   0.0   0.0   0.0   0.0   0.0   0.0   0.0   0.0  \n",
       "2   0.0   0.0   0.0   0.0   0.0   0.0   0.0   0.0   0.0  \n",
       "3   0.0   0.0   0.0   0.0   0.0   0.0   0.0   0.0   0.0  \n",
       "4   0.0   0.0   0.0   0.0   0.0   0.0   0.0   0.0   0.0  \n",
       "\n",
       "[5 rows x 6221 columns]"
      ]
     },
     "execution_count": 39,
     "metadata": {},
     "output_type": "execute_result"
    }
   ],
   "source": [
    "tfidf_model=TfidfVectorizer()\n",
    "tfidf_vec=tfidf_model.fit_transform(corpus)\n",
    "tfidf_data=pd.DataFrame(tfidf_vec.toarray())\n",
    "tfidf_data.head()"
   ]
  },
  {
   "cell_type": "code",
   "execution_count": null,
   "id": "9c9d73a8",
   "metadata": {},
   "outputs": [],
   "source": []
  },
  {
   "cell_type": "code",
   "execution_count": null,
   "id": "849ad42f",
   "metadata": {},
   "outputs": [],
   "source": []
  },
  {
   "cell_type": "markdown",
   "id": "c87e37aa",
   "metadata": {},
   "source": [
    "# Model Building using Deep Learning Models"
   ]
  },
  {
   "cell_type": "code",
   "execution_count": 40,
   "id": "aaab7c56",
   "metadata": {},
   "outputs": [
    {
     "data": {
      "text/plain": [
       "['go jurong point crazi avail bugi n great world la e buffet cine got amor wat',\n",
       " 'ok lar joke wif u oni',\n",
       " 'free entri wkli comp win fa cup final tkt st may text fa receiv entri question std txt rate c appli',\n",
       " 'u dun say earli hor u c alreadi say',\n",
       " 'nah think goe usf live around though']"
      ]
     },
     "execution_count": 40,
     "metadata": {},
     "output_type": "execute_result"
    }
   ],
   "source": [
    "corpus[0:5]"
   ]
  },
  {
   "cell_type": "code",
   "execution_count": 41,
   "id": "b9d0428b",
   "metadata": {},
   "outputs": [],
   "source": [
    "# now convert to one hot code representation\n",
    "\n",
    "### Vocabulary size\n",
    "voc_size=5000"
   ]
  },
  {
   "cell_type": "code",
   "execution_count": 51,
   "id": "2159ebc7",
   "metadata": {},
   "outputs": [],
   "source": [
    "#importing libraries\n",
    "\n",
    "from tensorflow.keras.layers import Embedding\n",
    "from tensorflow.keras.preprocessing.sequence import pad_sequences\n",
    "from tensorflow.keras.models import Sequential\n",
    "from tensorflow.keras.preprocessing.text import one_hot\n",
    "from tensorflow.keras.layers import LSTM\n",
    "from tensorflow.keras.layers import Dense, Dropout,Flatten"
   ]
  },
  {
   "cell_type": "code",
   "execution_count": 43,
   "id": "a0f76cf4",
   "metadata": {},
   "outputs": [
    {
     "data": {
      "text/plain": [
       "[[3316,\n",
       "  3716,\n",
       "  2890,\n",
       "  1945,\n",
       "  4786,\n",
       "  4033,\n",
       "  4871,\n",
       "  493,\n",
       "  156,\n",
       "  4620,\n",
       "  3844,\n",
       "  1252,\n",
       "  871,\n",
       "  72,\n",
       "  341,\n",
       "  3843],\n",
       " [1332, 1720, 1021, 4109, 3836, 2042],\n",
       " [3221,\n",
       "  4171,\n",
       "  2058,\n",
       "  3977,\n",
       "  522,\n",
       "  877,\n",
       "  4865,\n",
       "  2191,\n",
       "  438,\n",
       "  685,\n",
       "  2106,\n",
       "  2289,\n",
       "  877,\n",
       "  560,\n",
       "  4171,\n",
       "  1278,\n",
       "  28,\n",
       "  3997,\n",
       "  4930,\n",
       "  705,\n",
       "  4707],\n",
       " [3836, 2377, 1417, 2748, 1024, 3836, 705, 3579, 1417],\n",
       " [2724, 1991, 2025, 580, 3005, 320, 1733]]"
      ]
     },
     "execution_count": 43,
     "metadata": {},
     "output_type": "execute_result"
    }
   ],
   "source": [
    "onehot_repr = [one_hot(words, voc_size) for words in corpus]\n",
    "onehot_repr[0:5]"
   ]
  },
  {
   "cell_type": "code",
   "execution_count": 44,
   "id": "ec63a617",
   "metadata": {},
   "outputs": [
    {
     "name": "stdout",
     "output_type": "stream",
     "text": [
      "['go jurong point crazi avail bugi n great world la e buffet cine got amor wat', 'ok lar joke wif u oni', 'free entri wkli comp win fa cup final tkt st may text fa receiv entri question std txt rate c appli', 'u dun say earli hor u c alreadi say', 'nah think goe usf live around though']\n",
      "[[3316, 3716, 2890, 1945, 4786, 4033, 4871, 493, 156, 4620, 3844, 1252, 871, 72, 341, 3843], [1332, 1720, 1021, 4109, 3836, 2042], [3221, 4171, 2058, 3977, 522, 877, 4865, 2191, 438, 685, 2106, 2289, 877, 560, 4171, 1278, 28, 3997, 4930, 705, 4707], [3836, 2377, 1417, 2748, 1024, 3836, 705, 3579, 1417], [2724, 1991, 2025, 580, 3005, 320, 1733]]\n"
     ]
    }
   ],
   "source": [
    "print(corpus[0:5])\n",
    "print(onehot_repr[0:5])"
   ]
  },
  {
   "cell_type": "code",
   "execution_count": null,
   "id": "67153065",
   "metadata": {},
   "outputs": [],
   "source": []
  },
  {
   "cell_type": "code",
   "execution_count": 45,
   "id": "9a2d73ab",
   "metadata": {},
   "outputs": [
    {
     "data": {
      "text/plain": [
       "77"
      ]
     },
     "execution_count": 45,
     "metadata": {},
     "output_type": "execute_result"
    }
   ],
   "source": [
    "# we can observe that length of every sentence are different\n",
    "# to convert into embedding vector the sentences length should be same\n",
    "\n",
    "\n",
    "len(max(onehot_repr,key=len))"
   ]
  },
  {
   "cell_type": "markdown",
   "id": "4c53a2e5",
   "metadata": {},
   "source": [
    "# Embedding Representation"
   ]
  },
  {
   "cell_type": "code",
   "execution_count": 46,
   "id": "5049c1ad",
   "metadata": {},
   "outputs": [
    {
     "name": "stdout",
     "output_type": "stream",
     "text": [
      "[[   0    0    0 ...   72  341 3843]\n",
      " [   0    0    0 ... 4109 3836 2042]\n",
      " [   0    0    0 ... 4930  705 4707]\n",
      " ...\n",
      " [   0    0    0 ... 3799 4824 1180]\n",
      " [   0    0    0 ...  728 1158 3221]\n",
      " [   0    0    0 ... 3093 1834 4080]]\n"
     ]
    }
   ],
   "source": [
    "# here we use Padding Sequences\n",
    "sent_length=40\n",
    "embedded_docs=pad_sequences(onehot_repr,padding='pre',maxlen=sent_length)\n",
    "print(embedded_docs)"
   ]
  },
  {
   "cell_type": "code",
   "execution_count": 49,
   "id": "b4ba3bf8",
   "metadata": {},
   "outputs": [
    {
     "name": "stdout",
     "output_type": "stream",
     "text": [
      "go jurong point crazi avail bugi n great world la e buffet cine got amor wat\n",
      "[3316, 3716, 2890, 1945, 4786, 4033, 4871, 493, 156, 4620, 3844, 1252, 871, 72, 341, 3843]\n",
      "[   0    0    0    0    0    0    0    0    0    0    0    0    0    0\n",
      "    0    0    0    0    0    0    0    0    0    0 3316 3716 2890 1945\n",
      " 4786 4033 4871  493  156 4620 3844 1252  871   72  341 3843]\n"
     ]
    }
   ],
   "source": [
    "\n",
    "print(corpus[0])\n",
    "print(onehot_repr[0])\n",
    "print(embedded_docs[0])"
   ]
  },
  {
   "cell_type": "markdown",
   "id": "6b80ffcb",
   "metadata": {},
   "source": [
    "# 1) Recurrent Neural Network model"
   ]
  },
  {
   "cell_type": "markdown",
   "id": "951d4e50",
   "metadata": {},
   "source": [
    "# LSTM"
   ]
  },
  {
   "cell_type": "code",
   "execution_count": 80,
   "id": "87ad3eb9",
   "metadata": {},
   "outputs": [
    {
     "name": "stdout",
     "output_type": "stream",
     "text": [
      "Model: \"sequential_6\"\n",
      "_________________________________________________________________\n",
      " Layer (type)                Output Shape              Param #   \n",
      "=================================================================\n",
      " embedding_6 (Embedding)     (None, 40, 10)            50000     \n",
      "                                                                 \n",
      " lstm_3 (LSTM)               (None, 100)               44400     \n",
      "                                                                 \n",
      " dropout_4 (Dropout)         (None, 100)               0         \n",
      "                                                                 \n",
      " dense_4 (Dense)             (None, 1)                 101       \n",
      "                                                                 \n",
      "=================================================================\n",
      "Total params: 94,501\n",
      "Trainable params: 94,501\n",
      "Non-trainable params: 0\n",
      "_________________________________________________________________\n",
      "None\n"
     ]
    }
   ],
   "source": [
    "model_LSTM=Sequential()\n",
    "model_LSTM.add(Embedding(5000, 10, input_length=40))\n",
    "model_LSTM.add(LSTM(100))\n",
    "model_LSTM.add(Dropout(0.10))\n",
    "model_LSTM.add(Dense(1,activation='sigmoid'))\n",
    "model_LSTM.compile(loss='binary_crossentropy',optimizer='adam',metrics=['accuracy'])\n",
    "print(model_LSTM.summary())"
   ]
  },
  {
   "cell_type": "code",
   "execution_count": 81,
   "id": "673a505f",
   "metadata": {},
   "outputs": [
    {
     "data": {
      "text/plain": [
       "<keras.engine.sequential.Sequential at 0x1fd784b8040>"
      ]
     },
     "execution_count": 81,
     "metadata": {},
     "output_type": "execute_result"
    }
   ],
   "source": [
    "model_LSTM"
   ]
  },
  {
   "cell_type": "code",
   "execution_count": 54,
   "id": "5a1a7a56",
   "metadata": {},
   "outputs": [
    {
     "data": {
      "text/plain": [
       "(5572, (5572,))"
      ]
     },
     "execution_count": 54,
     "metadata": {},
     "output_type": "execute_result"
    }
   ],
   "source": [
    "len(embedded_docs),y.shape"
   ]
  },
  {
   "cell_type": "code",
   "execution_count": 55,
   "id": "44b18fdc",
   "metadata": {},
   "outputs": [],
   "source": [
    "# convert independent and dependent features into array\n",
    "import numpy as np\n",
    "X_final=np.array(embedded_docs)\n",
    "y_final=np.array(y)"
   ]
  },
  {
   "cell_type": "code",
   "execution_count": 56,
   "id": "fca0aa95",
   "metadata": {},
   "outputs": [
    {
     "name": "stdout",
     "output_type": "stream",
     "text": [
      "X_final.shape--> (5572, 40)\n",
      "y_final.shape--> (5572,)\n"
     ]
    }
   ],
   "source": [
    "X_final.shape,y_final.shape\n",
    "\n",
    "print('X_final.shape-->',X_final.shape)\n",
    "print('y_final.shape-->',y_final.shape)"
   ]
  },
  {
   "cell_type": "code",
   "execution_count": 57,
   "id": "b0f4e7b1",
   "metadata": {},
   "outputs": [
    {
     "data": {
      "text/plain": [
       "array([   0,    0,    0,    0,    0,    0,    0,    0,    0,    0,    0,\n",
       "          0,    0,    0,    0,    0,    0,    0,    0,    0,    0,    0,\n",
       "          0,    0, 3316, 3716, 2890, 1945, 4786, 4033, 4871,  493,  156,\n",
       "       4620, 3844, 1252,  871,   72,  341, 3843])"
      ]
     },
     "execution_count": 57,
     "metadata": {},
     "output_type": "execute_result"
    }
   ],
   "source": [
    "X_final[0]"
   ]
  },
  {
   "cell_type": "code",
   "execution_count": 58,
   "id": "7e332485",
   "metadata": {},
   "outputs": [
    {
     "data": {
      "text/plain": [
       "array([[   0,    0,    0,    0,    0,    0,    0,    0,    0,    0,    0,\n",
       "           0,    0,    0,    0,    0,    0,    0,    0,    0,    0,    0,\n",
       "           0,    0, 3316, 3716, 2890, 1945, 4786, 4033, 4871,  493,  156,\n",
       "        4620, 3844, 1252,  871,   72,  341, 3843],\n",
       "       [   0,    0,    0,    0,    0,    0,    0,    0,    0,    0,    0,\n",
       "           0,    0,    0,    0,    0,    0,    0,    0,    0,    0,    0,\n",
       "           0,    0,    0,    0,    0,    0,    0,    0,    0,    0,    0,\n",
       "           0, 1332, 1720, 1021, 4109, 3836, 2042],\n",
       "       [   0,    0,    0,    0,    0,    0,    0,    0,    0,    0,    0,\n",
       "           0,    0,    0,    0,    0,    0,    0,    0, 3221, 4171, 2058,\n",
       "        3977,  522,  877, 4865, 2191,  438,  685, 2106, 2289,  877,  560,\n",
       "        4171, 1278,   28, 3997, 4930,  705, 4707]])"
      ]
     },
     "execution_count": 58,
     "metadata": {},
     "output_type": "execute_result"
    }
   ],
   "source": [
    "embedded_docs[0:3]"
   ]
  },
  {
   "cell_type": "code",
   "execution_count": 59,
   "id": "b0306e5a",
   "metadata": {},
   "outputs": [
    {
     "data": {
      "text/plain": [
       "array([[   0,    0,    0,    0,    0,    0,    0,    0,    0,    0,    0,\n",
       "           0,    0,    0,    0,    0,    0,    0,    0,    0,    0,    0,\n",
       "           0,    0, 3316, 3716, 2890, 1945, 4786, 4033, 4871,  493,  156,\n",
       "        4620, 3844, 1252,  871,   72,  341, 3843],\n",
       "       [   0,    0,    0,    0,    0,    0,    0,    0,    0,    0,    0,\n",
       "           0,    0,    0,    0,    0,    0,    0,    0,    0,    0,    0,\n",
       "           0,    0,    0,    0,    0,    0,    0,    0,    0,    0,    0,\n",
       "           0, 1332, 1720, 1021, 4109, 3836, 2042],\n",
       "       [   0,    0,    0,    0,    0,    0,    0,    0,    0,    0,    0,\n",
       "           0,    0,    0,    0,    0,    0,    0,    0, 3221, 4171, 2058,\n",
       "        3977,  522,  877, 4865, 2191,  438,  685, 2106, 2289,  877,  560,\n",
       "        4171, 1278,   28, 3997, 4930,  705, 4707]])"
      ]
     },
     "execution_count": 59,
     "metadata": {},
     "output_type": "execute_result"
    }
   ],
   "source": [
    "X_final[0:3]"
   ]
  },
  {
   "cell_type": "code",
   "execution_count": 60,
   "id": "6ab063da",
   "metadata": {},
   "outputs": [],
   "source": [
    "# Note: here in (5169, 40), 40 is came after we done embedding with sent_size = 40"
   ]
  },
  {
   "cell_type": "code",
   "execution_count": 61,
   "id": "7f36d7bb",
   "metadata": {},
   "outputs": [],
   "source": [
    "# spliting train, test  data\n",
    "from sklearn.model_selection import train_test_split\n",
    "X_train, X_test, y_train, y_test = train_test_split(X_final, y_final, test_size=0.33, random_state=42)"
   ]
  },
  {
   "cell_type": "markdown",
   "id": "3070cf71",
   "metadata": {},
   "source": [
    "# Model Training"
   ]
  },
  {
   "cell_type": "code",
   "execution_count": 82,
   "id": "60f55c2e",
   "metadata": {},
   "outputs": [
    {
     "name": "stdout",
     "output_type": "stream",
     "text": [
      "Epoch 1/15\n",
      "59/59 [==============================] - 7s 59ms/step - loss: 0.4222 - accuracy: 0.8610 - val_loss: 0.3112 - val_accuracy: 0.8630\n",
      "Epoch 2/15\n",
      "59/59 [==============================] - 3s 50ms/step - loss: 0.1939 - accuracy: 0.9269 - val_loss: 0.1203 - val_accuracy: 0.9826\n",
      "Epoch 3/15\n",
      "59/59 [==============================] - 3s 50ms/step - loss: 0.0686 - accuracy: 0.9821 - val_loss: 0.0624 - val_accuracy: 0.9837\n",
      "Epoch 4/15\n",
      "59/59 [==============================] - 3s 50ms/step - loss: 0.0369 - accuracy: 0.9896 - val_loss: 0.0544 - val_accuracy: 0.9848\n",
      "Epoch 5/15\n",
      "59/59 [==============================] - 3s 50ms/step - loss: 0.0232 - accuracy: 0.9933 - val_loss: 0.0509 - val_accuracy: 0.9848\n",
      "Epoch 6/15\n",
      "59/59 [==============================] - 3s 50ms/step - loss: 0.0155 - accuracy: 0.9954 - val_loss: 0.0523 - val_accuracy: 0.9842\n",
      "Epoch 7/15\n",
      "59/59 [==============================] - 3s 50ms/step - loss: 0.0093 - accuracy: 0.9981 - val_loss: 0.0633 - val_accuracy: 0.9842\n",
      "Epoch 8/15\n",
      "59/59 [==============================] - 3s 50ms/step - loss: 0.0096 - accuracy: 0.9979 - val_loss: 0.0551 - val_accuracy: 0.9842\n",
      "Epoch 9/15\n",
      "59/59 [==============================] - 3s 51ms/step - loss: 0.0054 - accuracy: 0.9987 - val_loss: 0.0731 - val_accuracy: 0.9831\n",
      "Epoch 10/15\n",
      "59/59 [==============================] - 3s 51ms/step - loss: 0.0041 - accuracy: 0.9992 - val_loss: 0.0626 - val_accuracy: 0.9848\n",
      "Epoch 11/15\n",
      "59/59 [==============================] - 3s 50ms/step - loss: 0.0032 - accuracy: 0.9995 - val_loss: 0.0807 - val_accuracy: 0.9837\n",
      "Epoch 12/15\n",
      "59/59 [==============================] - 3s 50ms/step - loss: 0.0022 - accuracy: 0.9995 - val_loss: 0.0792 - val_accuracy: 0.9821\n",
      "Epoch 13/15\n",
      "59/59 [==============================] - 3s 50ms/step - loss: 0.0019 - accuracy: 0.9997 - val_loss: 0.0752 - val_accuracy: 0.9826\n",
      "Epoch 14/15\n",
      "59/59 [==============================] - 3s 50ms/step - loss: 0.0017 - accuracy: 0.9995 - val_loss: 0.0708 - val_accuracy: 0.9837\n",
      "Epoch 15/15\n",
      "59/59 [==============================] - 3s 50ms/step - loss: 0.0017 - accuracy: 0.9995 - val_loss: 0.0804 - val_accuracy: 0.9837\n"
     ]
    }
   ],
   "source": [
    "### Finally Training\n",
    "model_LSTM_history = model_LSTM.fit(X_train,y_train,validation_data=(X_test,y_test),epochs=15,batch_size=64)"
   ]
  },
  {
   "cell_type": "code",
   "execution_count": 63,
   "id": "31b26063",
   "metadata": {},
   "outputs": [
    {
     "data": {
      "text/plain": [
       "dict_keys(['loss', 'accuracy', 'val_loss', 'val_accuracy'])"
      ]
     },
     "execution_count": 63,
     "metadata": {},
     "output_type": "execute_result"
    }
   ],
   "source": [
    "model_LSTM_history.history.keys()"
   ]
  },
  {
   "cell_type": "code",
   "execution_count": 83,
   "id": "b11844f1",
   "metadata": {},
   "outputs": [
    {
     "data": {
      "image/png": "[encoded data removed]",
      "text/plain": [
       "<Figure size 432x288 with 1 Axes>"
      ]
     },
     "metadata": {
      "needs_background": "light"
     },
     "output_type": "display_data"
    }
   ],
   "source": [
    "# summarize history for accuracy\n",
    "plt.plot(model_LSTM_history.history['accuracy'])\n",
    "plt.plot(model_LSTM_history.history['val_accuracy'])\n",
    "plt.title('model accuracy')\n",
    "plt.ylabel('accuracy')\n",
    "plt.xlabel('epoch')\n",
    "plt.legend(['train', 'test'], loc='upper left')\n",
    "plt.show()"
   ]
  },
  {
   "cell_type": "code",
   "execution_count": 84,
   "id": "6b3ae122",
   "metadata": {},
   "outputs": [
    {
     "data": {
      "image/png": "[encoded data removed]",
      "text/plain": [
       "<Figure size 432x288 with 1 Axes>"
      ]
     },
     "metadata": {
      "needs_background": "light"
     },
     "output_type": "display_data"
    }
   ],
   "source": [
    "# summarize history for loss\n",
    "plt.plot(model_LSTM_history.history['loss'])\n",
    "plt.plot(model_LSTM_history.history['val_loss'])\n",
    "plt.title('model loss')\n",
    "plt.ylabel('loss')\n",
    "plt.xlabel('epoch')\n",
    "plt.legend(['train', 'test'], loc='upper left')\n",
    "plt.show()"
   ]
  },
  {
   "cell_type": "code",
   "execution_count": 90,
   "id": "46954bf2",
   "metadata": {},
   "outputs": [
    {
     "name": "stdout",
     "output_type": "stream",
     "text": [
      "58/58 [==============================] - 1s 7ms/step\n"
     ]
    }
   ],
   "source": [
    "y_pred = model_LSTM.predict(X_test)\n",
    "y_pred = np.round(y_pred).astype(int)"
   ]
  },
  {
   "cell_type": "code",
   "execution_count": 91,
   "id": "0a2744d9",
   "metadata": {},
   "outputs": [
    {
     "data": {
      "text/plain": [
       "array([[1581,    6],\n",
       "       [  24,  228]], dtype=int64)"
      ]
     },
     "execution_count": 91,
     "metadata": {},
     "output_type": "execute_result"
    }
   ],
   "source": [
    "from sklearn.metrics import confusion_matrix\n",
    "confusion_matrix(y_test,y_pred)"
   ]
  },
  {
   "cell_type": "code",
   "execution_count": 92,
   "id": "45844782",
   "metadata": {},
   "outputs": [
    {
     "data": {
      "text/plain": [
       "0.9836867862969005"
      ]
     },
     "execution_count": 92,
     "metadata": {},
     "output_type": "execute_result"
    }
   ],
   "source": [
    "from sklearn.metrics import accuracy_score\n",
    "accuracy_score(y_test,y_pred)"
   ]
  },
  {
   "cell_type": "code",
   "execution_count": 93,
   "id": "3c988fd8",
   "metadata": {},
   "outputs": [
    {
     "name": "stdout",
     "output_type": "stream",
     "text": [
      "              precision    recall  f1-score   support\n",
      "\n",
      "           0       0.99      1.00      0.99      1587\n",
      "           1       0.97      0.90      0.94       252\n",
      "\n",
      "    accuracy                           0.98      1839\n",
      "   macro avg       0.98      0.95      0.96      1839\n",
      "weighted avg       0.98      0.98      0.98      1839\n",
      "\n"
     ]
    }
   ],
   "source": [
    "from sklearn.metrics import classification_report\n",
    "print(classification_report(y_test,y_pred))"
   ]
  },
  {
   "cell_type": "markdown",
   "id": "0795e64e",
   "metadata": {},
   "source": [
    "# GRU"
   ]
  },
  {
   "cell_type": "code",
   "execution_count": 74,
   "id": "0b0915b7",
   "metadata": {},
   "outputs": [],
   "source": [
    "from sklearn.metrics import mean_absolute_error\n",
    "from keras.models import Sequential\n",
    "from keras.layers import Dense, GRU, Dropout"
   ]
  },
  {
   "cell_type": "code",
   "execution_count": 76,
   "id": "c92aec15",
   "metadata": {},
   "outputs": [
    {
     "name": "stdout",
     "output_type": "stream",
     "text": [
      "Model: \"sequential_5\"\n",
      "_________________________________________________________________\n",
      " Layer (type)                Output Shape              Param #   \n",
      "=================================================================\n",
      " embedding_5 (Embedding)     (None, 40, 10)            50000     \n",
      "                                                                 \n",
      " gru_1 (GRU)                 (None, 100)               33600     \n",
      "                                                                 \n",
      " dropout_3 (Dropout)         (None, 100)               0         \n",
      "                                                                 \n",
      " dense_3 (Dense)             (None, 1)                 101       \n",
      "                                                                 \n",
      "=================================================================\n",
      "Total params: 83,701\n",
      "Trainable params: 83,701\n",
      "Non-trainable params: 0\n",
      "_________________________________________________________________\n",
      "None\n"
     ]
    }
   ],
   "source": [
    "model_GRU=Sequential()\n",
    "model_GRU.add(Embedding(5000, 10, input_length=40))\n",
    "model_GRU.add(GRU(100))\n",
    "model_GRU.add(Dropout(0.10))\n",
    "model_GRU.add(Dense(1,activation='sigmoid'))\n",
    "model_GRU.compile(loss='binary_crossentropy',optimizer='adam',metrics=['accuracy'])\n",
    "print(model_GRU.summary())"
   ]
  },
  {
   "cell_type": "code",
   "execution_count": 77,
   "id": "7a9195ad",
   "metadata": {},
   "outputs": [
    {
     "name": "stdout",
     "output_type": "stream",
     "text": [
      "Epoch 1/15\n",
      "59/59 [==============================] - 6s 52ms/step - loss: 0.4031 - accuracy: 0.8612 - val_loss: 0.2616 - val_accuracy: 0.8630\n",
      "Epoch 2/15\n",
      "59/59 [==============================] - 3s 45ms/step - loss: 0.1220 - accuracy: 0.9512 - val_loss: 0.0733 - val_accuracy: 0.9837\n",
      "Epoch 3/15\n",
      "59/59 [==============================] - 3s 45ms/step - loss: 0.0360 - accuracy: 0.9893 - val_loss: 0.0561 - val_accuracy: 0.9869\n",
      "Epoch 4/15\n",
      "59/59 [==============================] - 3s 44ms/step - loss: 0.0193 - accuracy: 0.9944 - val_loss: 0.0552 - val_accuracy: 0.9869\n",
      "Epoch 5/15\n",
      "59/59 [==============================] - 3s 43ms/step - loss: 0.0120 - accuracy: 0.9962 - val_loss: 0.0536 - val_accuracy: 0.9864\n",
      "Epoch 6/15\n",
      "59/59 [==============================] - 2s 39ms/step - loss: 0.0074 - accuracy: 0.9984 - val_loss: 0.0573 - val_accuracy: 0.9859\n",
      "Epoch 7/15\n",
      "59/59 [==============================] - 2s 39ms/step - loss: 0.0047 - accuracy: 0.9989 - val_loss: 0.0558 - val_accuracy: 0.9848\n",
      "Epoch 8/15\n",
      "59/59 [==============================] - 3s 44ms/step - loss: 0.0037 - accuracy: 0.9989 - val_loss: 0.0591 - val_accuracy: 0.9848\n",
      "Epoch 9/15\n",
      "59/59 [==============================] - 3s 44ms/step - loss: 0.0024 - accuracy: 0.9992 - val_loss: 0.0722 - val_accuracy: 0.9864\n",
      "Epoch 10/15\n",
      "59/59 [==============================] - 3s 44ms/step - loss: 0.0022 - accuracy: 0.9995 - val_loss: 0.0739 - val_accuracy: 0.9853\n",
      "Epoch 11/15\n",
      "59/59 [==============================] - 3s 44ms/step - loss: 0.0011 - accuracy: 0.9997 - val_loss: 0.0738 - val_accuracy: 0.9831\n",
      "Epoch 12/15\n",
      "59/59 [==============================] - 3s 43ms/step - loss: 0.0013 - accuracy: 0.9995 - val_loss: 0.0812 - val_accuracy: 0.9853\n",
      "Epoch 13/15\n",
      "59/59 [==============================] - 3s 43ms/step - loss: 0.0011 - accuracy: 0.9997 - val_loss: 0.0692 - val_accuracy: 0.9810\n",
      "Epoch 14/15\n",
      "59/59 [==============================] - 2s 42ms/step - loss: 7.5290e-04 - accuracy: 0.9997 - val_loss: 0.0832 - val_accuracy: 0.9837\n",
      "Epoch 15/15\n",
      "59/59 [==============================] - 3s 43ms/step - loss: 5.9154e-04 - accuracy: 0.9997 - val_loss: 0.0777 - val_accuracy: 0.9853\n"
     ]
    }
   ],
   "source": [
    "model_GRU_history = model_GRU.fit(X_train,y_train,validation_data=(X_test,y_test),epochs=15,batch_size=64)"
   ]
  },
  {
   "cell_type": "code",
   "execution_count": 78,
   "id": "0da8a4ed",
   "metadata": {},
   "outputs": [
    {
     "data": {
      "image/png": "[encoded data removed]",
      "text/plain": [
       "<Figure size 432x288 with 1 Axes>"
      ]
     },
     "metadata": {
      "needs_background": "light"
     },
     "output_type": "display_data"
    }
   ],
   "source": [
    "# summarize history for accuracy\n",
    "plt.plot(model_GRU_history.history['accuracy'])\n",
    "plt.plot(model_GRU_history.history['val_accuracy'])\n",
    "plt.title('model accuracy')\n",
    "plt.ylabel('accuracy')\n",
    "plt.xlabel('epoch')\n",
    "plt.legend(['train', 'test'], loc='upper left')\n",
    "plt.show()"
   ]
  },
  {
   "cell_type": "code",
   "execution_count": 79,
   "id": "8ea7aa0e",
   "metadata": {},
   "outputs": [
    {
     "data": {
      "image/png": "[encoded data removed]",
      "text/plain": [
       "<Figure size 432x288 with 1 Axes>"
      ]
     },
     "metadata": {
      "needs_background": "light"
     },
     "output_type": "display_data"
    }
   ],
   "source": [
    "# summarize history for loss\n",
    "plt.plot(model_GRU_history.history['loss'])\n",
    "plt.plot(model_GRU_history.history['val_loss'])\n",
    "plt.title('model loss')\n",
    "plt.ylabel('loss')\n",
    "plt.xlabel('epoch')\n",
    "plt.legend(['train', 'test'], loc='upper left')\n",
    "plt.show()"
   ]
  },
  {
   "cell_type": "markdown",
   "id": "37262574",
   "metadata": {},
   "source": [
    "# Performance Metrics And Accuracy"
   ]
  },
  {
   "cell_type": "code",
   "execution_count": 85,
   "id": "71b701c8",
   "metadata": {},
   "outputs": [
    {
     "name": "stdout",
     "output_type": "stream",
     "text": [
      "58/58 [==============================] - 1s 6ms/step\n"
     ]
    }
   ],
   "source": [
    "y_pred = model_GRU.predict(X_test)\n",
    "y_pred = np.round(y_pred).astype(int)"
   ]
  },
  {
   "cell_type": "code",
   "execution_count": 86,
   "id": "c7ae08ba",
   "metadata": {},
   "outputs": [
    {
     "data": {
      "text/plain": [
       "array([   0,    0,    0,    0,    0,    0,    0,    0,    0,    0,    0,\n",
       "          0,    0,    0,    0,    0,    0,    0,    0,    0,    0,    0,\n",
       "       4644,  710, 2298,  381, 3551, 2202, 3647, 2944, 4851, 3887, 2546,\n",
       "        381, 1535, 2645, 2324, 1684,  390, 3464])"
      ]
     },
     "execution_count": 86,
     "metadata": {},
     "output_type": "execute_result"
    }
   ],
   "source": [
    "X_test[0]"
   ]
  },
  {
   "cell_type": "code",
   "execution_count": 87,
   "id": "e340774f",
   "metadata": {
    "scrolled": true
   },
   "outputs": [
    {
     "data": {
      "text/plain": [
       "array([[1582,    5],\n",
       "       [  22,  230]], dtype=int64)"
      ]
     },
     "execution_count": 87,
     "metadata": {},
     "output_type": "execute_result"
    }
   ],
   "source": [
    "from sklearn.metrics import confusion_matrix\n",
    "confusion_matrix(y_test,y_pred)"
   ]
  },
  {
   "cell_type": "code",
   "execution_count": 88,
   "id": "1a697b8e",
   "metadata": {},
   "outputs": [
    {
     "data": {
      "text/plain": [
       "0.9853181076672104"
      ]
     },
     "execution_count": 88,
     "metadata": {},
     "output_type": "execute_result"
    }
   ],
   "source": [
    "from sklearn.metrics import accuracy_score\n",
    "accuracy_score(y_test,y_pred)"
   ]
  },
  {
   "cell_type": "code",
   "execution_count": 89,
   "id": "ea65c222",
   "metadata": {},
   "outputs": [
    {
     "name": "stdout",
     "output_type": "stream",
     "text": [
      "              precision    recall  f1-score   support\n",
      "\n",
      "           0       0.99      1.00      0.99      1587\n",
      "           1       0.98      0.91      0.94       252\n",
      "\n",
      "    accuracy                           0.99      1839\n",
      "   macro avg       0.98      0.95      0.97      1839\n",
      "weighted avg       0.99      0.99      0.99      1839\n",
      "\n"
     ]
    }
   ],
   "source": [
    "from sklearn.metrics import classification_report\n",
    "print(classification_report(y_test,y_pred))"
   ]
  },
  {
   "cell_type": "markdown",
   "id": "e673392b",
   "metadata": {},
   "source": [
    "# Testing our Model with Examples"
   ]
  },
  {
   "cell_type": "code",
   "execution_count": 64,
   "id": "a222240f",
   "metadata": {},
   "outputs": [
    {
     "name": "stdout",
     "output_type": "stream",
     "text": [
      "Enter Here : \n",
      "Free entry in 2 a wkly comp to win FA Cup final tkts 21st May 2005. Text FA to 87121 to receive entry question(std txt rate)T&C's apply 08452810075over18's\n",
      "1/1 [==============================] - 0s 34ms/step\n",
      "Spam\n"
     ]
    }
   ],
   "source": [
    "import re\n",
    "import nltk\n",
    "from nltk.corpus import stopwords\n",
    "from nltk.stem.porter import PorterStemmer\n",
    "from tensorflow.keras.preprocessing.text import one_hot\n",
    "\n",
    "ps = PorterStemmer()\n",
    "\n",
    "def transform_text(messages):\n",
    "    review = re.sub('[^a-zA-Z]', ' ', messages)  # removes all special characters other than a-z,A-Z\n",
    "    review = review.lower()  # all characters sat to lowercase\n",
    "\n",
    "    # word_tokenization method\n",
    "    review = review.split()  # sentences to words to apply stopwords\n",
    "\n",
    "    # stemming is applied for words that which words are not in stop words\n",
    "    review = [ps.stem(word) for word in review if not word in stopwords.words('english')]\n",
    "\n",
    "    # then again joined into sentences\n",
    "    review = ' '.join(review)\n",
    "\n",
    "    # onehot representing\n",
    "    voc_size = 5000\n",
    "    one_hot_ex = [   0,    0,    0,    0,    0,    0,    0,    0,    0,    0,    0,\n",
    "          0,    0,    0,    0,    0,    0,    0,    0,    0,    0,    0,\n",
    "          0,    0,    0,    0,    0,    0,    0,    0,    0,    0,    0,\n",
    "          0,    0,    0, 0, 0,  0, 0]\n",
    "    onehot_repr = one_hot(review, voc_size)\n",
    "    \n",
    "    list = []\n",
    "    list.append(one_hot_ex)\n",
    "    list.append(onehot_repr)\n",
    "    \n",
    "    sent_length=40\n",
    "    embedded_docs=pad_sequences(list,padding='pre',maxlen=sent_length)\n",
    "    \n",
    "    return embedded_docs\n",
    "\n",
    "message = transform_text(input(\"Enter Here : \\n\"))\n",
    "\n",
    "result = model.predict(message)[1]\n",
    "result = np.round(result).astype(int)\n",
    "\n",
    "if result == 1:\n",
    "    print(\"Spam\")\n",
    "else:\n",
    "    print(\" Not Spam\")"
   ]
  },
  {
   "cell_type": "code",
   "execution_count": null,
   "id": "e05e3d7c",
   "metadata": {},
   "outputs": [],
   "source": []
  },
  {
   "cell_type": "markdown",
   "id": "dddc6b6f",
   "metadata": {
    "collapsed": true
   },
   "source": [
    "# saving model to file"
   ]
  },
  {
   "cell_type": "code",
   "execution_count": 65,
   "id": "7205c758",
   "metadata": {},
   "outputs": [],
   "source": [
    "filename = \"sms_spam_model.h5\"\n",
    "model.save(filename)"
   ]
  },
  {
   "cell_type": "code",
   "execution_count": 66,
   "id": "d5c1f106",
   "metadata": {},
   "outputs": [],
   "source": [
    "#test model\n",
    "\n",
    "from tensorflow.keras.models import load_model"
   ]
  },
  {
   "cell_type": "code",
   "execution_count": 67,
   "id": "9cfb6844",
   "metadata": {},
   "outputs": [],
   "source": [
    "loaded_model = load_model(filename)"
   ]
  },
  {
   "cell_type": "code",
   "execution_count": 68,
   "id": "0cbb9c7e",
   "metadata": {},
   "outputs": [
    {
     "name": "stdout",
     "output_type": "stream",
     "text": [
      "1/1 [==============================] - 1s 602ms/step\n"
     ]
    },
    {
     "data": {
      "text/plain": [
       "array([[0.02393938]], dtype=float32)"
      ]
     },
     "execution_count": 68,
     "metadata": {},
     "output_type": "execute_result"
    }
   ],
   "source": [
    "loaded_model.predict(X_test[0:1])"
   ]
  },
  {
   "cell_type": "code",
   "execution_count": null,
   "id": "bb5f8187",
   "metadata": {},
   "outputs": [],
   "source": []
  }
 ],
 "metadata": {
  "celltoolbar": "Raw Cell Format",
  "kernelspec": {
   "display_name": "Python 3 (ipykernel)",
   "language": "python",
   "name": "python3"
  },
  "language_info": {
   "codemirror_mode": {
    "name": "ipython",
    "version": 3
   },
   "file_extension": ".py",
   "mimetype": "text/x-python",
   "name": "python",
   "nbconvert_exporter": "python",
   "pygments_lexer": "ipython3",
   "version": "3.9.7"
  }
 },
 "nbformat": 4,
 "nbformat_minor": 5
}
